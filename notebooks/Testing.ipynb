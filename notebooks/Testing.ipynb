{
 "cells": [
  {
   "cell_type": "code",
   "execution_count": 1,
   "metadata": {},
   "outputs": [],
   "source": [
    "%load_ext autoreload\n",
    "%autoreload 2"
   ]
  },
  {
   "cell_type": "code",
   "execution_count": 2,
   "metadata": {},
   "outputs": [
    {
     "name": "stdout",
     "output_type": "stream",
     "text": [
      "/home/aditya/git/RCNN_Pneumonia\n",
      "env: PROJECT_PATH=/home/aditya/git/RCNN_Pneumonia\n"
     ]
    }
   ],
   "source": [
    "%cd /home/aditya/git/RCNN_Pneumonia\n",
    "%env PROJECT_PATH /home/aditya/git/RCNN_Pneumonia"
   ]
  },
  {
   "cell_type": "code",
   "execution_count": 3,
   "metadata": {},
   "outputs": [
    {
     "name": "stderr",
     "output_type": "stream",
     "text": [
      "Using TensorFlow backend.\n"
     ]
    }
   ],
   "source": [
    "from utils.envs import *\n",
    "import random\n",
    "import tensorflow as tf\n",
    "import pandas as pd\n",
    "import numpy as np\n",
    "from model.dataset import PneumoniaDataset\n",
    "from mrcnn.model import log\n",
    "from mrcnn import utils\n",
    "from model.config import InferenceConfig\n",
    "from mrcnn import visualize\n",
    "from tqdm import tqdm_notebook as tqdm"
   ]
  },
  {
   "cell_type": "code",
   "execution_count": 4,
   "metadata": {},
   "outputs": [],
   "source": [
    "from mrcnn import model as modellib\n",
    "from utils.vis import get_ax"
   ]
  },
  {
   "cell_type": "code",
   "execution_count": 5,
   "metadata": {},
   "outputs": [],
   "source": [
    "train_dataset = PneumoniaDataset(data_dir, 'train')\n",
    "dev_dataset = PneumoniaDataset(data_dir, 'dev')\n",
    "val_dataset = PneumoniaDataset(data_dir, 'val')\n",
    "test_dataset = PneumoniaDataset(data_dir, 'test')"
   ]
  },
  {
   "cell_type": "code",
   "execution_count": 6,
   "metadata": {},
   "outputs": [],
   "source": [
    "train_dataset.prepare()\n",
    "dev_dataset.prepare()\n",
    "val_dataset.prepare()\n",
    "test_dataset.prepare()"
   ]
  },
  {
   "cell_type": "code",
   "execution_count": 7,
   "metadata": {},
   "outputs": [],
   "source": [
    "config = InferenceConfig()"
   ]
  },
  {
   "cell_type": "code",
   "execution_count": 8,
   "metadata": {},
   "outputs": [],
   "source": [
    "# Create model in inference mode\n",
    "model = modellib.MaskRCNN(mode=\"inference\",\n",
    "                          model_dir=logs_dir,\n",
    "                          config=config)"
   ]
  },
  {
   "cell_type": "code",
   "execution_count": 9,
   "metadata": {},
   "outputs": [],
   "source": [
    "n_epoch = '21'"
   ]
  },
  {
   "cell_type": "code",
   "execution_count": 10,
   "metadata": {},
   "outputs": [
    {
     "name": "stdout",
     "output_type": "stream",
     "text": [
      "Loading weights  /home/aditya/git/RCNN_Pneumonia/logs/pneumonia20181026T1746/mask_rcnn_pneumonia_0021.h5\n",
      "Re-starting from epoch 21\n"
     ]
    }
   ],
   "source": [
    "weights_path = '/home/aditya/git/RCNN_Pneumonia/logs/pneumonia20181026T1746/mask_rcnn_pneumonia_00{}.h5'.format(n_epoch)\n",
    "print(\"Loading weights \", weights_path)\n",
    "model.load_weights(weights_path, by_name=True)"
   ]
  },
  {
   "cell_type": "code",
   "execution_count": 11,
   "metadata": {},
   "outputs": [
    {
     "data": {
      "application/vnd.jupyter.widget-view+json": {
       "model_id": "133a004afcb24ea980051a7369ae7fb5",
       "version_major": 2,
       "version_minor": 0
      },
      "text/plain": [
       "HBox(children=(IntProgress(value=0, max=3000), HTML(value='')))"
      ]
     },
     "metadata": {},
     "output_type": "display_data"
    },
    {
     "name": "stdout",
     "output_type": "stream",
     "text": [
      "\n"
     ]
    }
   ],
   "source": [
    "result_95 = []\n",
    "result_97 = []\n",
    "result_99 = []\n",
    "for idx in tqdm(test_dataset.image_ids):\n",
    "    img = test_dataset.load_image(idx)\n",
    "    patient_id = test_dataset.image_info[idx]['patient_id']\n",
    "    prediction = model.detect([img])\n",
    "    rois = prediction[0]['rois']\n",
    "    score = prediction[0]['scores']\n",
    "    \n",
    "    predictionString = ''\n",
    "    for i in range(len(score)):\n",
    "        if score[i] > 0.95:\n",
    "            x1, y1, x2, y2 = int(rois[i][1]), int(rois[i][0]), int(rois[i][3]), int(rois[i][2])\n",
    "            x, y, width, height = x1, y1, x2-x1, y2-y1\n",
    "            predictionString = predictionString + '{} {} {} {} {} '.format(score[i], x, y, width, height)\n",
    "    result_95.append({\n",
    "        'patientId' : patient_id,\n",
    "        'predictionString' : predictionString.strip()\n",
    "    })\n",
    "    \n",
    "    predictionString = ''\n",
    "    for i in range(len(score)):\n",
    "        if score[i] > 0.97:\n",
    "            x1, y1, x2, y2 = int(rois[i][1]), int(rois[i][0]), int(rois[i][3]), int(rois[i][2])\n",
    "            x, y, width, height = x1, y1, x2-x1, y2-y1\n",
    "            predictionString = predictionString + '{} {} {} {} {} '.format(score[i], x, y, width, height)\n",
    "    result_97.append({\n",
    "        'patientId' : patient_id,\n",
    "        'predictionString' : predictionString.strip()\n",
    "    })\n",
    "    \n",
    "    predictionString = ''\n",
    "    for i in range(len(score)):\n",
    "        if score[i] > 0.99:\n",
    "            x1, y1, x2, y2 = int(rois[i][1]), int(rois[i][0]), int(rois[i][3]), int(rois[i][2])\n",
    "            x, y, width, height = x1, y1, x2-x1, y2-y1\n",
    "            predictionString = predictionString + '{} {} {} {} {} '.format(score[i], x, y, width, height)\n",
    "    result_99.append({\n",
    "        'patientId' : patient_id,\n",
    "        'predictionString' : predictionString.strip()\n",
    "    })"
   ]
  },
  {
   "cell_type": "code",
   "execution_count": 12,
   "metadata": {},
   "outputs": [],
   "source": [
    "iteration = 7"
   ]
  },
  {
   "cell_type": "code",
   "execution_count": 13,
   "metadata": {},
   "outputs": [],
   "source": [
    "result_95_df = pd.DataFrame(result_95)\n",
    "result_97_df = pd.DataFrame(result_97)\n",
    "result_99_df = pd.DataFrame(result_99)\n",
    "\n",
    "result_95_path = os.path.join(output_path, 'result_{}_{}_{}.csv').format(iteration, n_epoch, 0.95)\n",
    "result_97_path = os.path.join(output_path, 'result_{}_{}_{}.csv').format(iteration, n_epoch, 0.97)\n",
    "result_99_path = os.path.join(output_path, 'result_{}_{}_{}.csv').format(iteration, n_epoch, 0.99)\n",
    "\n",
    "result_95_df.to_csv(result_95_path, index=False)\n",
    "result_97_df.to_csv(result_97_path, index=False)\n",
    "result_99_df.to_csv(result_99_path, index=False)"
   ]
  },
  {
   "cell_type": "code",
   "execution_count": null,
   "metadata": {},
   "outputs": [],
   "source": []
  }
 ],
 "metadata": {
  "kernelspec": {
   "display_name": "Python 3",
   "language": "python",
   "name": "python3"
  },
  "language_info": {
   "codemirror_mode": {
    "name": "ipython",
    "version": 3
   },
   "file_extension": ".py",
   "mimetype": "text/x-python",
   "name": "python",
   "nbconvert_exporter": "python",
   "pygments_lexer": "ipython3",
   "version": "3.6.6"
  }
 },
 "nbformat": 4,
 "nbformat_minor": 2
}
