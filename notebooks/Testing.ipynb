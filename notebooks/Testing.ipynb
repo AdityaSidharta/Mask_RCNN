{
 "cells": [
  {
   "cell_type": "code",
   "execution_count": 1,
   "metadata": {},
   "outputs": [],
   "source": [
    "%load_ext autoreload\n",
    "%autoreload 2"
   ]
  },
  {
   "cell_type": "code",
   "execution_count": 2,
   "metadata": {},
   "outputs": [
    {
     "name": "stdout",
     "output_type": "stream",
     "text": [
      "/home/aditya/git/RCNN_Pneumonia\n",
      "env: PROJECT_PATH=/home/aditya/git/RCNN_Pneumonia\n"
     ]
    }
   ],
   "source": [
    "%cd /home/aditya/git/RCNN_Pneumonia\n",
    "%env PROJECT_PATH /home/aditya/git/RCNN_Pneumonia"
   ]
  },
  {
   "cell_type": "code",
   "execution_count": 3,
   "metadata": {},
   "outputs": [
    {
     "name": "stderr",
     "output_type": "stream",
     "text": [
      "Using TensorFlow backend.\n"
     ]
    }
   ],
   "source": [
    "from utils.envs import *\n",
    "import random\n",
    "import tensorflow as tf\n",
    "import pandas as pd\n",
    "import numpy as np\n",
    "from model.dataset import PneumoniaDataset\n",
    "from mrcnn.model import log\n",
    "from mrcnn import utils\n",
    "from model.config import InferenceConfig\n",
    "from mrcnn import visualize\n",
    "from tqdm import tqdm_notebook as tqdm"
   ]
  },
  {
   "cell_type": "code",
   "execution_count": 4,
   "metadata": {},
   "outputs": [],
   "source": [
    "from mrcnn import model as modellib\n",
    "from utils.vis import get_ax"
   ]
  },
  {
   "cell_type": "code",
   "execution_count": 5,
   "metadata": {},
   "outputs": [],
   "source": [
    "train_dataset = PneumoniaDataset(data_dir, 'train')\n",
    "dev_dataset = PneumoniaDataset(data_dir, 'dev')\n",
    "val_dataset = PneumoniaDataset(data_dir, 'val')\n",
    "test_dataset = PneumoniaDataset(data_dir, 'test')"
   ]
  },
  {
   "cell_type": "code",
   "execution_count": 6,
   "metadata": {},
   "outputs": [],
   "source": [
    "train_dataset.prepare()\n",
    "dev_dataset.prepare()\n",
    "val_dataset.prepare()\n",
    "test_dataset.prepare()"
   ]
  },
  {
   "cell_type": "code",
   "execution_count": 7,
   "metadata": {},
   "outputs": [],
   "source": [
    "config = InferenceConfig()"
   ]
  },
  {
   "cell_type": "code",
   "execution_count": 8,
   "metadata": {},
   "outputs": [],
   "source": [
    "# Create model in inference mode\n",
    "model = modellib.MaskRCNN(mode=\"inference\",\n",
    "                          model_dir=logs_dir,\n",
    "                          config=config)"
   ]
  },
  {
   "cell_type": "code",
   "execution_count": 9,
   "metadata": {},
   "outputs": [
    {
     "name": "stdout",
     "output_type": "stream",
     "text": [
      "Loading weights  /home/aditya/git/RCNN_Pneumonia/logs/pneumonia20181026T1746/mask_rcnn_pneumonia_0020.h5\n",
      "Re-starting from epoch 20\n"
     ]
    }
   ],
   "source": [
    "weights_path = model.find_last()\n",
    "\n",
    "# Load weights\n",
    "print(\"Loading weights \", weights_path)\n",
    "model.load_weights(weights_path, by_name=True)"
   ]
  },
  {
   "cell_type": "code",
   "execution_count": 10,
   "metadata": {},
   "outputs": [
    {
     "data": {
      "application/vnd.jupyter.widget-view+json": {
       "model_id": "41350f9ef7014914b3c137a50376a9ed",
       "version_major": 2,
       "version_minor": 0
      },
      "text/plain": [
       "HBox(children=(IntProgress(value=0, max=3000), HTML(value='')))"
      ]
     },
     "metadata": {},
     "output_type": "display_data"
    },
    {
     "name": "stdout",
     "output_type": "stream",
     "text": [
      "\n"
     ]
    },
    {
     "data": {
      "application/vnd.jupyter.widget-view+json": {
       "model_id": "d76ee733c34f49859f0c4a2b35b58c08",
       "version_major": 2,
       "version_minor": 0
      },
      "text/plain": [
       "HBox(children=(IntProgress(value=0, max=3000), HTML(value='')))"
      ]
     },
     "metadata": {},
     "output_type": "display_data"
    },
    {
     "name": "stdout",
     "output_type": "stream",
     "text": [
      "\n"
     ]
    }
   ],
   "source": [
    "for conf in [0.95, 0.97]:\n",
    "    result = []\n",
    "    for idx in tqdm(test_dataset.image_ids):\n",
    "        img = test_dataset.load_image(idx)\n",
    "        patient_id = test_dataset.image_info[idx]['patient_id']\n",
    "        prediction = model.detect([img])\n",
    "        rois = prediction[0]['rois']\n",
    "        score = prediction[0]['scores']\n",
    "        predictionString = ''\n",
    "        for i in range(len(score)):\n",
    "            if score[i] > 0.98:\n",
    "                x1, y1, x2, y2 = int(rois[i][1]), int(rois[i][0]), int(rois[i][3]), int(rois[i][2])\n",
    "                x, y, width, height = x1, y1, x2-x1, y2-y1\n",
    "                predictionString = predictionString + '{} {} {} {} {} '.format(score[i], x, y, width, height)\n",
    "        result.append({\n",
    "            'patientId' : patient_id,\n",
    "            'predictionString' : predictionString.strip()\n",
    "        })\n",
    "        result_df = pd.DataFrame(result)\n",
    "        result_df.to_csv('/home/aditya/git/RCNN_Pneumonia/output/result_3_{}.csv'.format(conf), index = False)"
   ]
  },
  {
   "cell_type": "code",
   "execution_count": null,
   "metadata": {},
   "outputs": [],
   "source": []
  },
  {
   "cell_type": "code",
   "execution_count": null,
   "metadata": {},
   "outputs": [],
   "source": []
  }
 ],
 "metadata": {
  "kernelspec": {
   "display_name": "Python 3",
   "language": "python",
   "name": "python3"
  },
  "language_info": {
   "codemirror_mode": {
    "name": "ipython",
    "version": 3
   },
   "file_extension": ".py",
   "mimetype": "text/x-python",
   "name": "python",
   "nbconvert_exporter": "python",
   "pygments_lexer": "ipython3",
   "version": "3.6.6"
  }
 },
 "nbformat": 4,
 "nbformat_minor": 2
}
